{
 "cells": [
  {
   "cell_type": "markdown",
   "id": "21783028-4d5e-4ada-beb0-d6523481dc0b",
   "metadata": {},
   "source": [
    "### Read PDF with python (pypdf)"
   ]
  },
  {
   "cell_type": "markdown",
   "id": "a4556b7b-50a7-47ca-94d5-b773c9f20bc7",
   "metadata": {
    "jp-MarkdownHeadingCollapsed": true
   },
   "source": [
    "##### whole code"
   ]
  },
  {
   "cell_type": "code",
   "execution_count": null,
   "id": "9fc79beb-66f7-497a-b8f6-42690f06a7e2",
   "metadata": {},
   "outputs": [],
   "source": [
    "from pypdf import PdfReader\n",
    "\n",
    "# Create a PDF reader object\n",
    "reader = PdfReader(\"example.pdf\")\n",
    "\n",
    "# Get the number of pages\n",
    "print(f\"Number of pages: {len(reader.pages)}\")\n",
    "\n",
    "# Extract text from the first page\n",
    "first_page = reader.pages[0]\n",
    "text = first_page.extract_text()\n",
    "print(\"Text from first page:\")\n",
    "print(text)"
   ]
  },
  {
   "cell_type": "markdown",
   "id": "7e4adbc8-829d-45b7-b615-0a8127435664",
   "metadata": {
    "jp-MarkdownHeadingCollapsed": true
   },
   "source": [
    "##### seperate code"
   ]
  },
  {
   "cell_type": "code",
   "execution_count": 1,
   "id": "41fdae93-62dc-4f7b-b6c6-a84808822bf5",
   "metadata": {},
   "outputs": [],
   "source": [
    "from pypdf import PdfReader"
   ]
  },
  {
   "cell_type": "code",
   "execution_count": 2,
   "id": "5ccdc0ae-2a45-4577-937e-880e29fe9584",
   "metadata": {},
   "outputs": [],
   "source": [
    "reader = PdfReader(\"test.pdf\")"
   ]
  },
  {
   "cell_type": "code",
   "execution_count": 3,
   "id": "27bf8c7b-7a17-4e1e-b11c-67ad5023ec2c",
   "metadata": {},
   "outputs": [
    {
     "name": "stdout",
     "output_type": "stream",
     "text": [
      "Number of pages: 2\n"
     ]
    }
   ],
   "source": [
    "print(f\"Number of pages: {len(reader.pages)}\")"
   ]
  },
  {
   "cell_type": "code",
   "execution_count": 4,
   "id": "65cd1027-1f3f-454b-be05-6b714b818e0c",
   "metadata": {},
   "outputs": [],
   "source": [
    "first_page = reader.pages[0]\n",
    "text = first_page.extract_text()"
   ]
  },
  {
   "cell_type": "code",
   "execution_count": 5,
   "id": "26be9530-be03-44de-a621-7d48d3acdfbc",
   "metadata": {},
   "outputs": [
    {
     "name": "stdout",
     "output_type": "stream",
     "text": [
      "Machine Learning Explanation & Linear \n",
      "Algebra Example in Python\n",
      "What is Machine Learning?\n",
      "Machine learning is a subset of artificial intelligence that enables systems to automatically learn and\n",
      "improve from experience without being explicitly programmed. It focuses on developing algorithms\n",
      "that can:\n",
      "1. Learn patterns from data\n",
      "2. Make predictions or decisions\n",
      "3. Improve their performance over time\n",
      "There are three main types:\n",
      "• Supervised learning (labeled data, e.g., classification, regression)\n",
      "• Unsupervised learning (unlabeled data, e.g., clustering, dimensionality reduction)\n",
      "• Reinforcement learning (learning through rewards/punishments)\n",
      "Linear Algebra in Machine Learning\n",
      "Linear algebra is fundamental to machine learning as it provides:\n",
      "• Tools for working with datasets (often represented as matrices)\n",
      "• Operations for transformations and dimensionality reduction\n",
      "• Efficient computation methods\n",
      "Simple Linear Algebra Example in Python\n",
      "Here's a basic example using NumPy, Python's fundamental package for scientific computing:\n",
      "import numpy as np\n",
      "# Vectors (1D arrays)\n",
      "vector_a = np.array([1, 2, 3])\n",
      "vector_b = np.array([4, 5, 6])\n",
      "# Vector operations\n",
      "print(\"Vector addition:\", vector_a + vector_b)\n",
      "print(\"Dot product:\", np.dot(vector_a, vector_b))\n",
      "# Matrices (2D arrays)\n",
      "matrix_a = np.array([[1, 2], [3, 4]])\n",
      "matrix_b = np.array([[5, 6], [7, 8]])\n",
      "# Matrix operations\n",
      "print(\"\\nMatrix multiplication:\")\n",
      "print(np.matmul(matrix_a, matrix_b))\n"
     ]
    }
   ],
   "source": [
    "print(text)"
   ]
  },
  {
   "cell_type": "code",
   "execution_count": null,
   "id": "8db84f82-ba78-4dad-8fad-02d5964f045c",
   "metadata": {},
   "outputs": [],
   "source": []
  }
 ],
 "metadata": {
  "kernelspec": {
   "display_name": "Python 3 (ipykernel)",
   "language": "python",
   "name": "python3"
  },
  "language_info": {
   "codemirror_mode": {
    "name": "ipython",
    "version": 3
   },
   "file_extension": ".py",
   "mimetype": "text/x-python",
   "name": "python",
   "nbconvert_exporter": "python",
   "pygments_lexer": "ipython3",
   "version": "3.11.11"
  }
 },
 "nbformat": 4,
 "nbformat_minor": 5
}
