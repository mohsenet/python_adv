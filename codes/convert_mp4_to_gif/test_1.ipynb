{
 "cells": [
  {
   "cell_type": "markdown",
   "id": "e84216a1-0e04-4479-8c30-f8febe397792",
   "metadata": {},
   "source": [
    "#### Convert MP4 to GIF with Python"
   ]
  },
  {
   "cell_type": "code",
   "execution_count": 12,
   "id": "4b72fb2a-5c28-4b98-b0e8-6ddaa56d19b4",
   "metadata": {},
   "outputs": [],
   "source": [
    "# pip install moviepy"
   ]
  },
  {
   "cell_type": "code",
   "execution_count": 4,
   "id": "e5a38a47-72a6-4682-9d7d-8712b5851db3",
   "metadata": {},
   "outputs": [
    {
     "name": "stdout",
     "output_type": "stream",
     "text": [
      "MoviePy - Building file tqdm.gif with imageio.\n"
     ]
    },
    {
     "name": "stderr",
     "output_type": "stream",
     "text": [
      "                                                                                                                                                                         "
     ]
    },
    {
     "name": "stdout",
     "output_type": "stream",
     "text": [
      "GIF created successfully at tqdm.gif\n"
     ]
    }
   ],
   "source": [
    "from moviepy.editor import *\n",
    "\n",
    "def convert_mp4_to_gif(input_path, output_path, fps=10, scale=None):\n",
    "    \"\"\"\n",
    "    Convert an MP4 video to GIF.\n",
    "    \n",
    "    Parameters:\n",
    "    - input_path: Path to the input MP4 file\n",
    "    - output_path: Path to save the output GIF\n",
    "    - fps: Frames per second for the GIF (lower for smaller files)\n",
    "    - scale: Resize factor (e.g., 0.5 to make half size)\n",
    "    \"\"\"\n",
    "    # Load the video file\n",
    "    clip = VideoFileClip(input_path)\n",
    "    \n",
    "    # Resize if needed\n",
    "    if scale is not None:\n",
    "        clip = clip.resize(scale)\n",
    "    \n",
    "    # Write the GIF file\n",
    "    clip.write_gif(output_path, fps=fps)\n",
    "    \n",
    "    print(f\"GIF created successfully at {output_path}\")\n",
    "\n",
    "# Example usage\n",
    "convert_mp4_to_gif(\"111.mp4\", \"tqdm.gif\", fps=12, scale=0.8)"
   ]
  },
  {
   "cell_type": "code",
   "execution_count": null,
   "id": "e848334b-8f1e-443a-81b2-53faf30438bc",
   "metadata": {},
   "outputs": [],
   "source": []
  }
 ],
 "metadata": {
  "kernelspec": {
   "display_name": "Python 3 (ipykernel)",
   "language": "python",
   "name": "python3"
  },
  "language_info": {
   "codemirror_mode": {
    "name": "ipython",
    "version": 3
   },
   "file_extension": ".py",
   "mimetype": "text/x-python",
   "name": "python",
   "nbconvert_exporter": "python",
   "pygments_lexer": "ipython3",
   "version": "3.11.11"
  }
 },
 "nbformat": 4,
 "nbformat_minor": 5
}
